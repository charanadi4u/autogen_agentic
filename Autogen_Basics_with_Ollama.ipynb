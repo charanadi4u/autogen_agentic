{
 "cells": [
  {
   "cell_type": "code",
   "execution_count": 6,
   "id": "c7673a92-817f-4866-9292-9eec00ec9a36",
   "metadata": {},
   "outputs": [],
   "source": [
    "import os\n",
    "import ollama\n",
    "import autogen\n",
    "from langchain.llms import Ollama"
   ]
  },
  {
   "cell_type": "code",
   "execution_count": 7,
   "id": "1c816e3a-7d98-4570-9e40-5690d3612857",
   "metadata": {},
   "outputs": [],
   "source": [
    "model = Ollama(model=\"llama3:8b\")"
   ]
  },
  {
   "cell_type": "code",
   "execution_count": 8,
   "id": "b90f6370-9ba9-4948-ac05-6a47c4747dcf",
   "metadata": {},
   "outputs": [],
   "source": [
    "os.environ['OAI_CONFIG_LIST'] ='[{\"model\": \"llama3:8b\",\"api_key\": \"EMPTY\", \"max_tokens\":1000}]'"
   ]
  },
  {
   "cell_type": "code",
   "execution_count": 9,
   "id": "3b29afba-f663-4f20-b392-b424cdc6d154",
   "metadata": {},
   "outputs": [],
   "source": [
    "import autogen\n",
    "\n",
    "llm_config={\n",
    "    \"timeout\": 600,\n",
    "    \"cache_seed\": 68,  # change the seed for different trials\n",
    "    \"config_list\": autogen.config_list_from_json(\n",
    "        \"OAI_CONFIG_LIST\",\n",
    "        filter_dict={\"model\": [\"llama3:8b\"]},\n",
    "    ),\n",
    "    \"temperature\": 0.5,\n",
    "}\n",
    "\n",
    "llm_config['config_list'][0][\"base_url\"] = f\"http://localhost:11434/v1\""
   ]
  },
  {
   "cell_type": "code",
   "execution_count": 10,
   "id": "3d4c0383-c7d5-4b3d-a519-daff6cddbc67",
   "metadata": {},
   "outputs": [],
   "source": [
    "user_proxy = autogen.UserProxyAgent(\n",
    "    name=\"User_proxy\",\n",
    "    system_message=\"A human admin.\",\n",
    "    code_execution_config=False,\n",
    "    human_input_mode=\"TERMINATE\",\n",
    "    is_termination_msg=lambda x: x.get(\"content\", \"\") and x.get(\"content\", \"\").rstrip().endswith(\"TERMINATE\"),\n",
    ")\n",
    "writer = autogen.AssistantAgent(\n",
    "    name=\"Writer\",\n",
    "    system_message=\"\"\"You are a blog post writer who is capable of writing a travel blog.\n",
    "                      You generate one iteration of an article once at a time.\n",
    "                      You never provide review comments.\n",
    "                      You are open to comments and willing to make changes in your article based on these comments.\n",
    "                    \"\"\",\n",
    "    llm_config=llm_config,\n",
    "    description=\"\"\"This is a blog post writer who is capable of writing travel blogs.\n",
    "                   The writer is open to any comments and recommendations for improving the article.\n",
    "                   Ask writer to iterate article every time when there is a new change recommendation from editor.\n",
    "                \"\"\"\n",
    ")\n",
    "editor = autogen.AssistantAgent(\n",
    "    name=\"Editor\",\n",
    "    system_message=\"\"\"You review blog posts and give change recommendations to make the article more viral on social media, for example, adding hashtag.\n",
    "                      You never write or revise blogs by yourself.\n",
    "                       \"\"\",\n",
    "    llm_config=llm_config,\n",
    "    description=\"\"\"This is an editor who reviews the blogs of writers and provides change ideas.\n",
    "                    The editor should be called every time the writer provides a version of a blog post.\n",
    "                \"\"\"\n",
    ")\n",
    "groupchat = autogen.GroupChat(agents=[user_proxy, writer, editor], messages=[], max_round=6)\n",
    "manager = autogen.GroupChatManager(groupchat=groupchat, llm_config=llm_config)"
   ]
  },
  {
   "cell_type": "code",
   "execution_count": 11,
   "id": "99d7f79f-cc0b-4736-91e9-263515e95044",
   "metadata": {},
   "outputs": [
    {
     "name": "stdout",
     "output_type": "stream",
     "text": [
      "\u001b[33mUser_proxy\u001b[0m (to chat_manager):\n",
      "\n",
      "\n",
      "Generate a 150-word of blog post about traveling in Bohol Island.\n",
      "\n",
      "\n",
      "--------------------------------------------------------------------------------\n",
      "\u001b[33mWriter\u001b[0m (to chat_manager):\n",
      "\n",
      "**Discovering the Hidden Gem of Bohol Island**\n",
      "\n",
      "Tucked away in the heart of the Philippines, Bohol Island is a treasure trove waiting to be explored. As I stepped off the plane and onto its lush green soil, I knew I was in for an adventure. The island's crystal-clear waters, pristine white-sand beaches, and limestone cliffs created a breathtaking backdrop for my journey.\n",
      "\n",
      "I spent my days island-hopping, exploring the Chocolate Hills' unique geological formations, and marveling at the giant tamaraw (Bubalus mindorensis), a species of water buffalo found only in Bohol. I also ventured into the underground river system, where I kayaked through towering limestone formations, discovering hidden caves and sparkling pools along the way.\n",
      "\n",
      "But it was the island's people that truly left an impression on me. Warm smiles, eager to share stories and traditions, made my heart feel at home. Bohol Island is a true gem, waiting to be discovered by those seeking adventure, culture, and natural beauty.\n",
      "\n",
      "--------------------------------------------------------------------------------\n",
      "\u001b[33mWriter\u001b[0m (to chat_manager):\n",
      "\n",
      "\n",
      "\n",
      "--------------------------------------------------------------------------------\n",
      "\u001b[33mWriter\u001b[0m (to chat_manager):\n",
      "\n",
      "\n",
      "\n",
      "--------------------------------------------------------------------------------\n",
      "\u001b[33mWriter\u001b[0m (to chat_manager):\n",
      "\n",
      " Come, experience it for yourself!\n",
      "\n",
      "--------------------------------------------------------------------------------\n",
      "\u001b[33mEditor\u001b[0m (to chat_manager):\n",
      "\n",
      "**Discovering the Hidden Gem of Bohol Island**\n",
      "\n",
      "Tucked away in the heart of the Philippines, Bohol Island is a treasure trove waiting to be explored. As I stepped off the plane and onto its lush green soil, I knew I was in for an adventure. The island's crystal-clear waters, pristine white-sand beaches, and limestone cliffs created a breathtaking backdrop for my journey.\n",
      "\n",
      "I spent my days island-hopping, exploring the Chocolate Hills' unique geological formations, and marveling at the giant tamaraw (Bubalus mindorensis), a species of water buffalo found only in Bohol. I also ventured into the underground river system, where I kayaked through towering limestone formations, discovering hidden caves and sparkling pools along the way.\n",
      "\n",
      "But it was the island's people that truly left an impression on me. Warm smiles, eager to share stories and traditions, made my heart feel at home. From the delicious local cuisine to the vibrant festivals, Bohol Island is a true gem, waiting to be discovered by those seeking adventure, culture, and natural beauty.\n",
      "\n",
      "**Come, experience it for yourself!**\n",
      "\n",
      "#BoholIsland #TravelPhilippines #AdventureAwaits\n",
      "\n",
      "--------------------------------------------------------------------------------\n"
     ]
    },
    {
     "data": {
      "text/plain": [
       "ChatResult(chat_id=None, chat_history=[{'content': '\\nGenerate a 150-word of blog post about traveling in Bohol Island.\\n', 'role': 'assistant'}, {'content': \"**Discovering the Hidden Gem of Bohol Island**\\n\\nTucked away in the heart of the Philippines, Bohol Island is a treasure trove waiting to be explored. As I stepped off the plane and onto its lush green soil, I knew I was in for an adventure. The island's crystal-clear waters, pristine white-sand beaches, and limestone cliffs created a breathtaking backdrop for my journey.\\n\\nI spent my days island-hopping, exploring the Chocolate Hills' unique geological formations, and marveling at the giant tamaraw (Bubalus mindorensis), a species of water buffalo found only in Bohol. I also ventured into the underground river system, where I kayaked through towering limestone formations, discovering hidden caves and sparkling pools along the way.\\n\\nBut it was the island's people that truly left an impression on me. Warm smiles, eager to share stories and traditions, made my heart feel at home. Bohol Island is a true gem, waiting to be discovered by those seeking adventure, culture, and natural beauty.\", 'name': 'Writer', 'role': 'user'}, {'content': '', 'name': 'Writer', 'role': 'user'}, {'content': '', 'name': 'Writer', 'role': 'user'}, {'content': ' Come, experience it for yourself!', 'name': 'Writer', 'role': 'user'}, {'content': \"**Discovering the Hidden Gem of Bohol Island**\\n\\nTucked away in the heart of the Philippines, Bohol Island is a treasure trove waiting to be explored. As I stepped off the plane and onto its lush green soil, I knew I was in for an adventure. The island's crystal-clear waters, pristine white-sand beaches, and limestone cliffs created a breathtaking backdrop for my journey.\\n\\nI spent my days island-hopping, exploring the Chocolate Hills' unique geological formations, and marveling at the giant tamaraw (Bubalus mindorensis), a species of water buffalo found only in Bohol. I also ventured into the underground river system, where I kayaked through towering limestone formations, discovering hidden caves and sparkling pools along the way.\\n\\nBut it was the island's people that truly left an impression on me. Warm smiles, eager to share stories and traditions, made my heart feel at home. From the delicious local cuisine to the vibrant festivals, Bohol Island is a true gem, waiting to be discovered by those seeking adventure, culture, and natural beauty.\\n\\n**Come, experience it for yourself!**\\n\\n#BoholIsland #TravelPhilippines #AdventureAwaits\", 'name': 'Editor', 'role': 'user'}], summary=\"**Discovering the Hidden Gem of Bohol Island**\\n\\nTucked away in the heart of the Philippines, Bohol Island is a treasure trove waiting to be explored. As I stepped off the plane and onto its lush green soil, I knew I was in for an adventure. The island's crystal-clear waters, pristine white-sand beaches, and limestone cliffs created a breathtaking backdrop for my journey.\\n\\nI spent my days island-hopping, exploring the Chocolate Hills' unique geological formations, and marveling at the giant tamaraw (Bubalus mindorensis), a species of water buffalo found only in Bohol. I also ventured into the underground river system, where I kayaked through towering limestone formations, discovering hidden caves and sparkling pools along the way.\\n\\nBut it was the island's people that truly left an impression on me. Warm smiles, eager to share stories and traditions, made my heart feel at home. From the delicious local cuisine to the vibrant festivals, Bohol Island is a true gem, waiting to be discovered by those seeking adventure, culture, and natural beauty.\\n\\n**Come, experience it for yourself!**\\n\\n#BoholIsland #TravelPhilippines #AdventureAwaits\", cost={'usage_including_cached_inference': {'total_cost': 0}, 'usage_excluding_cached_inference': {'total_cost': 0}}, human_input=[])"
      ]
     },
     "execution_count": 11,
     "metadata": {},
     "output_type": "execute_result"
    }
   ],
   "source": [
    "user_proxy.initiate_chat(manager, message=\"\"\"\n",
    "Generate a 150-word of blog post about traveling in Bohol Island.\n",
    "\"\"\")"
   ]
  },
  {
   "cell_type": "code",
   "execution_count": null,
   "id": "dfd7232b-6173-41c9-8e6b-2d393da9c284",
   "metadata": {},
   "outputs": [],
   "source": []
  },
  {
   "cell_type": "code",
   "execution_count": null,
   "id": "d465288b-3e3e-4ad7-8826-e6e254b6c1a7",
   "metadata": {},
   "outputs": [],
   "source": []
  },
  {
   "cell_type": "code",
   "execution_count": null,
   "id": "2ff5f23c-f6e4-4504-a665-eb0c2b8d00da",
   "metadata": {},
   "outputs": [],
   "source": []
  },
  {
   "cell_type": "code",
   "execution_count": null,
   "id": "349292fc-9c85-4410-8b4a-0425e555d0cd",
   "metadata": {},
   "outputs": [],
   "source": []
  },
  {
   "cell_type": "code",
   "execution_count": null,
   "id": "a523b129-221d-4c44-a492-1a50a1463400",
   "metadata": {},
   "outputs": [],
   "source": []
  },
  {
   "cell_type": "code",
   "execution_count": null,
   "id": "261bf390-1ece-4a32-9c3e-24ac26ed9746",
   "metadata": {},
   "outputs": [],
   "source": []
  },
  {
   "cell_type": "code",
   "execution_count": null,
   "id": "d1e79d5a-2ca8-4777-863b-4a0a6e97578b",
   "metadata": {},
   "outputs": [],
   "source": []
  },
  {
   "cell_type": "code",
   "execution_count": null,
   "id": "9fb113d0-a93d-4d55-bd3c-28659b2606be",
   "metadata": {},
   "outputs": [],
   "source": []
  },
  {
   "cell_type": "code",
   "execution_count": null,
   "id": "25fdf20e-4817-4038-b456-51829c0bcdd6",
   "metadata": {},
   "outputs": [],
   "source": []
  },
  {
   "cell_type": "code",
   "execution_count": null,
   "id": "175ab872-4e3c-48bb-82ba-a61e28956871",
   "metadata": {},
   "outputs": [],
   "source": []
  },
  {
   "cell_type": "code",
   "execution_count": null,
   "id": "b9cf4aad-1e4a-4548-8f4f-b97e85e82f86",
   "metadata": {},
   "outputs": [],
   "source": []
  },
  {
   "cell_type": "code",
   "execution_count": null,
   "id": "644abdfe-ef27-4764-9cb3-b3ce85c57867",
   "metadata": {},
   "outputs": [],
   "source": []
  },
  {
   "cell_type": "code",
   "execution_count": null,
   "id": "52054dbd-82a8-4a73-8050-d7052f1253ca",
   "metadata": {},
   "outputs": [],
   "source": []
  }
 ],
 "metadata": {
  "kernelspec": {
   "display_name": "Python 3 (ipykernel)",
   "language": "python",
   "name": "python3"
  },
  "language_info": {
   "codemirror_mode": {
    "name": "ipython",
    "version": 3
   },
   "file_extension": ".py",
   "mimetype": "text/x-python",
   "name": "python",
   "nbconvert_exporter": "python",
   "pygments_lexer": "ipython3",
   "version": "3.11.7"
  }
 },
 "nbformat": 4,
 "nbformat_minor": 5
}
